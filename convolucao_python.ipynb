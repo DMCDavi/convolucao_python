{
  "nbformat": 4,
  "nbformat_minor": 0,
  "metadata": {
    "colab": {
      "name": "convolucao_pyth.ipynb",
      "provenance": [],
      "authorship_tag": "ABX9TyM1zyEBVcHqH26Mqyev6O/9",
      "include_colab_link": true
    },
    "kernelspec": {
      "name": "python3",
      "display_name": "Python 3"
    },
    "language_info": {
      "name": "python"
    }
  },
  "cells": [
    {
      "cell_type": "markdown",
      "metadata": {
        "id": "view-in-github",
        "colab_type": "text"
      },
      "source": [
        "<a href=\"https://colab.research.google.com/github/DMCDavi/convolucao_python/blob/main/convolucao_python.ipynb\" target=\"_parent\"><img src=\"https://colab.research.google.com/assets/colab-badge.svg\" alt=\"Open In Colab\"/></a>"
      ]
    },
    {
      "cell_type": "code",
      "execution_count": 1,
      "metadata": {
        "colab": {
          "base_uri": "https://localhost:8080/"
        },
        "id": "izuPHcGZm5sp",
        "outputId": "a10af1ef-36ab-4864-8b41-dd3976cdb239"
      },
      "outputs": [
        {
          "output_type": "stream",
          "name": "stdout",
          "text": [
            "{-1: 4, 0: -2, 1: -4, 2: 3, 3: -3, 4: 0}\n"
          ]
        }
      ],
      "source": [
        "import numpy as np\n",
        "\n",
        "def do_convolution():\n",
        "    x_begin = -1\n",
        "    h_begin = 0\n",
        "    x = [2, 0, -3, 1]\n",
        "    h = [2, -1, 1]\n",
        "    y = {}\n",
        "    x_length = len(x)\n",
        "    h_length = len(h)\n",
        "    x_end = x_length + x_begin - 1\n",
        "    h_end = h_length + h_begin - 1\n",
        "    count = 0\n",
        "    calc_begin = x_begin + h_begin\n",
        "    calc_length = x_length + h_length - 1\n",
        "    calc_end = calc_begin + calc_length\n",
        "\n",
        "    x_dict = {}\n",
        "    h_dict = {}\n",
        "    sum = 0\n",
        "\n",
        "    for n in range(x_length):\n",
        "        x_dict[x_begin + n] = x[n]\n",
        "\n",
        "    for n in range(h_length):\n",
        "        h_dict[h_begin + n] = h[n]\n",
        "    \n",
        "    for n in range(calc_begin, calc_end):\n",
        "        y_n = 0\n",
        "        for k in range(x_begin, x_end):\n",
        "            if k in x_dict.keys() and n - k in h_dict.keys():\n",
        "                y_n += x_dict[k] * h_dict[n - k]\n",
        "        y[n] = y_n\n",
        "\n",
        "    print(y)\n",
        "\n",
        "\n",
        "    \n",
        "    \n",
        "do_convolution()"
      ]
    }
  ]
}