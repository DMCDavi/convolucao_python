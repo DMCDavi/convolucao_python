{
  "nbformat": 4,
  "nbformat_minor": 0,
  "metadata": {
    "colab": {
      "name": "convolucao_pyth.ipynb",
      "provenance": [],
      "include_colab_link": true
    },
    "kernelspec": {
      "name": "python3",
      "display_name": "Python 3"
    },
    "language_info": {
      "name": "python"
    }
  },
  "cells": [
    {
      "cell_type": "markdown",
      "metadata": {
        "id": "view-in-github",
        "colab_type": "text"
      },
      "source": [
        "<a href=\"https://colab.research.google.com/github/DMCDavi/convolucao_python/blob/main/convolucao_python.ipynb\" target=\"_parent\"><img src=\"https://colab.research.google.com/assets/colab-badge.svg\" alt=\"Open In Colab\"/></a>"
      ]
    },
    {
      "cell_type": "code",
      "source": [
        "import numpy as np\n",
        "import matplotlib.pyplot as plt"
      ],
      "metadata": {
        "id": "-oarv4aIHRVq"
      },
      "execution_count": 50,
      "outputs": []
    },
    {
      "cell_type": "code",
      "source": [
        "def fill_signal_dict(signal, begin):\n",
        "    dict = {}\n",
        "    for n in range(len(signal)):\n",
        "        dict[begin + n] = signal[n]\n",
        "    return dict\n"
      ],
      "metadata": {
        "id": "IF-ennWwIwZk"
      },
      "execution_count": 51,
      "outputs": []
    },
    {
      "cell_type": "code",
      "source": [
        "def plot_signal(signal):\n",
        "    n = list(signal.keys())\n",
        "    y = list(signal.values())\n",
        "    plt.plot(n, y, 'ro', markersize=10)\n",
        "    plt.vlines(x=n, ymin=0, ymax=y, color='red')\n",
        "    plt.title(signal)"
      ],
      "metadata": {
        "id": "kN8LMye-KaXN"
      },
      "execution_count": 54,
      "outputs": []
    },
    {
      "cell_type": "code",
      "execution_count": 56,
      "metadata": {
        "id": "izuPHcGZm5sp"
      },
      "outputs": [],
      "source": [
        "def do_convolution():\n",
        "\n",
        "    x_begin = -1\n",
        "    h_begin = 0\n",
        "    x = [2, 0, -3, 1]\n",
        "    h = [2, -1, 1]\n",
        "\n",
        "    x_length = len(x)\n",
        "    h_length = len(h)\n",
        "\n",
        "    x_end = x_length + x_begin\n",
        "    h_end = h_length + h_begin - 1\n",
        "\n",
        "    calc_begin = x_begin + h_begin\n",
        "    calc_length = x_length + h_length - 1\n",
        "    calc_end = calc_begin + calc_length\n",
        "\n",
        "    x_dict = fill_signal_dict(x, x_begin)\n",
        "    h_dict = fill_signal_dict(h, h_begin)\n",
        "    y = {}\n",
        "    \n",
        "    for n in range(calc_begin, calc_end):\n",
        "        y_n = 0\n",
        "        for k in range(x_begin, x_end):\n",
        "            if k in x_dict.keys() and n - k in h_dict.keys():\n",
        "                y_n += x_dict[k] * h_dict[n - k]\n",
        "        y[n] = y_n\n",
        "    \n",
        "    return y"
      ]
    },
    {
      "cell_type": "code",
      "source": [
        "signal = do_convolution()\n",
        "plot_signal(signal)"
      ],
      "metadata": {
        "colab": {
          "base_uri": "https://localhost:8080/",
          "height": 281
        },
        "id": "_ZbvXF68LAIt",
        "outputId": "259fbd71-405c-494d-81c8-ccdf4d62c2ad"
      },
      "execution_count": 57,
      "outputs": [
        {
          "output_type": "display_data",
          "data": {
            "text/plain": [
              "<Figure size 432x288 with 1 Axes>"
            ],
            "image/png": "[encoded data removed]"
          },
          "metadata": {
            "needs_background": "light"
          }
        }
      ]
    }
  ]
}